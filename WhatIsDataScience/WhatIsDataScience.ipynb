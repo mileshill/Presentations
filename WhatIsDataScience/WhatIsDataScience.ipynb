{
 "cells": [
  {
   "cell_type": "code",
   "execution_count": 7,
   "metadata": {
    "slideshow": {
     "slide_type": "skip"
    }
   },
   "outputs": [],
   "source": [
    "import IPython"
   ]
  },
  {
   "cell_type": "markdown",
   "metadata": {
    "slideshow": {
     "slide_type": "slide"
    }
   },
   "source": [
    "# What is Data Science?"
   ]
  },
  {
   "cell_type": "markdown",
   "metadata": {
    "slideshow": {
     "slide_type": "subslide"
    }
   },
   "source": [
    "# Topics to Cover"
   ]
  },
  {
   "cell_type": "markdown",
   "metadata": {
    "slideshow": {
     "slide_type": "subslide"
    }
   },
   "source": [
    "## Data Science\n",
    "- What is it?\n",
    "- Who does it?\n",
    "- Imagination\n",
    "\n",
    "## Machine Learning\n",
    "- **Cool example here**\n",
    "- Leveraging ML to maximize human potential"
   ]
  },
  {
   "cell_type": "markdown",
   "metadata": {
    "slideshow": {
     "slide_type": "notes"
    }
   },
   "source": [
    "Some notes go here"
   ]
  },
  {
   "cell_type": "markdown",
   "metadata": {
    "slideshow": {
     "slide_type": "skip"
    }
   },
   "source": [
    "<hr>"
   ]
  },
  {
   "cell_type": "markdown",
   "metadata": {
    "slideshow": {
     "slide_type": "slide"
    }
   },
   "source": [
    "# Who am I?"
   ]
  },
  {
   "cell_type": "markdown",
   "metadata": {
    "slideshow": {
     "slide_type": "subslide"
    }
   },
   "source": [
    "**LucidChart timeline leading up to present day**"
   ]
  },
  {
   "cell_type": "markdown",
   "metadata": {
    "slideshow": {
     "slide_type": "skip"
    }
   },
   "source": [
    "<hr>"
   ]
  },
  {
   "cell_type": "markdown",
   "metadata": {
    "slideshow": {
     "slide_type": "slide"
    }
   },
   "source": [
    "# Data science is trending"
   ]
  },
  {
   "cell_type": "markdown",
   "metadata": {
    "slideshow": {
     "slide_type": "fragment"
    }
   },
   "source": [
    "## Interest is accelerating\n",
    "\n",
    "![Interest is accelerating](images/ml_ds_interest_over_time.png)"
   ]
  },
  {
   "cell_type": "markdown",
   "metadata": {
    "slideshow": {
     "slide_type": "fragment"
    }
   },
   "source": [
    "[Google Trends Reference](https://trends.google.com/trends/explore?date=2009-04-02%202019-04-02&q=machine%20learning,data%20science)"
   ]
  },
  {
   "cell_type": "markdown",
   "metadata": {
    "slideshow": {
     "slide_type": "slide"
    }
   },
   "source": [
    "# Data scientist shortage"
   ]
  },
  {
   "cell_type": "markdown",
   "metadata": {
    "slideshow": {
     "slide_type": "fragment"
    }
   },
   "source": [
    "- [LinkedIn reported](https://news.linkedin.com/2018/8/linkedin-workforce-report-august-2018) shortage of **151,717** data scientist\n",
    "<br>\n",
    "- Low supply, high demand results in competetitive compensation\n"
   ]
  },
  {
   "cell_type": "markdown",
   "metadata": {
    "slideshow": {
     "slide_type": "subslide"
    }
   },
   "source": [
    "![](images/glass_door_ds_salaries1.png)\n",
    "\n",
    "[Glass Door Data Scientist](https://www.glassdoor.com/Salaries/data-scientist-salary-SRCH_KO0,14.htm)"
   ]
  },
  {
   "cell_type": "markdown",
   "metadata": {
    "slideshow": {
     "slide_type": "subslide"
    }
   },
   "source": [
    "![](images/glass_door_ml_engineer_salary.png)\n",
    "[Glass Door ML Engineer](https://www.glassdoor.com/Salaries/machine-learning-engineer-salary-SRCH_KO0,25.htm)"
   ]
  },
  {
   "cell_type": "markdown",
   "metadata": {
    "slideshow": {
     "slide_type": "slide"
    }
   },
   "source": [
    "# Are You a Data Scientist?"
   ]
  },
  {
   "cell_type": "markdown",
   "metadata": {
    "slideshow": {
     "slide_type": "subslide"
    }
   },
   "source": [
    "# Characteristics \n",
    "\n",
    "- ### **Imaginative**\n",
    "    - _Abstracts away compartamentilisim_\n",
    "- ### **Inquisative**\n",
    "    - _Follows curiosity_\n",
    "- ### **Perseverant**\n",
    "    - _Undeterred_ \n",
    "- ### **Evolutionary**\n",
    "    - _Ability to systematically and iteratively develop skills_\n"
   ]
  },
  {
   "cell_type": "markdown",
   "metadata": {
    "slideshow": {
     "slide_type": "slide"
    }
   },
   "source": [
    "# Pumpkin Pancakes"
   ]
  },
  {
   "cell_type": "markdown",
   "metadata": {
    "slideshow": {
     "slide_type": "fragment"
    }
   },
   "source": [
    "**Ingredients**<br>\n",
    "- 2 bananas\n",
    "- 1 can pumpkin\n",
    "- 4 large eggs\n",
    "- 1/4 C milk\n",
    "- honey, cinammon, almonds/walnuts (to taste)\n",
    "<br>\n",
    "\n",
    "1. Pour almond milk into blender. Depth of milk should cover the blades. Add all ingredients into blender and blend until smooth.\n",
    "2. Preheat the oven to 400F. Pour mixture into baking dish. Bake for 16-20 minutes. Test by fork. Mixture should not stick to the fork.\n",
    "3. Let cool until warm"
   ]
  },
  {
   "cell_type": "markdown",
   "metadata": {
    "slideshow": {
     "slide_type": "slide"
    }
   },
   "source": [
    "<img src=\"images/pumpkin_bake.png\" width=\"1250\">"
   ]
  },
  {
   "cell_type": "markdown",
   "metadata": {
    "slideshow": {
     "slide_type": "skip"
    }
   },
   "source": [
    "<hr>"
   ]
  },
  {
   "cell_type": "markdown",
   "metadata": {
    "slideshow": {
     "slide_type": "slide"
    }
   },
   "source": [
    "# Machine Learning"
   ]
  },
  {
   "cell_type": "markdown",
   "metadata": {
    "slideshow": {
     "slide_type": "fragment"
    }
   },
   "source": [
    "<quote>\n",
    "Machine learning is the scientific study of algorithms and statistical models that computer systems use to effectively perform a specific task without using explicit instructions, relying on patterns and inference instead\n",
    "    <author>Wikipedia</author>\n",
    "</quote>\n",
    "<br>\n",
    "\n",
    "- Classification & Regression\n",
    "- Clustering\n",
    "- Dimensionality reduction\n",
    "- Structured prediction\n",
    "- Anomaly detection\n",
    "- Neural Networks (Deep learning)"
   ]
  },
  {
   "cell_type": "markdown",
   "metadata": {
    "slideshow": {
     "slide_type": "slide"
    }
   },
   "source": [
    "List out some examples of everyday usage.\n",
    "\n",
    "Iphone face recognition to unlock\n",
    "IPhone, voice recognition\n",
    "GMail auto complete\n",
    "Gmail photo tagging and sorting\n",
    "\n",
    "Email spam filtering\n",
    "\n",
    "\n",
    "Self driving or smart assist cars, drones, boats\n",
    "\n",
    "Toxic comments,\n",
    "satellite image counting of sea lions\n",
    "recognition of restricted fish in trawler nets\n",
    "Whales not boats\n",
    "\n",
    "\n"
   ]
  },
  {
   "cell_type": "markdown",
   "metadata": {
    "slideshow": {
     "slide_type": "slide"
    }
   },
   "source": [
    "# Wait... Is it hard?\n",
    "\n",
    "_car example_"
   ]
  },
  {
   "cell_type": "markdown",
   "metadata": {
    "slideshow": {
     "slide_type": "slide"
    }
   },
   "source": [
    "# Code example \n",
    "\n",
    "_keras mnist_"
   ]
  },
  {
   "cell_type": "markdown",
   "metadata": {
    "slideshow": {
     "slide_type": "slide"
    }
   },
   "source": [
    "_Wolfram model repo_"
   ]
  }
 ],
 "metadata": {
  "celltoolbar": "Slideshow",
  "kernelspec": {
   "display_name": "Python 3",
   "language": "python",
   "name": "python3"
  },
  "language_info": {
   "codemirror_mode": {
    "name": "ipython",
    "version": 3
   },
   "file_extension": ".py",
   "mimetype": "text/x-python",
   "name": "python",
   "nbconvert_exporter": "python",
   "pygments_lexer": "ipython3",
   "version": "3.7.3"
  }
 },
 "nbformat": 4,
 "nbformat_minor": 2
}
