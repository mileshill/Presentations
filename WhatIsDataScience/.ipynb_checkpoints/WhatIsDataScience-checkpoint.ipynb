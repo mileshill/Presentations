{
 "cells": [
  {
   "cell_type": "code",
   "execution_count": 1,
   "metadata": {
    "slideshow": {
     "slide_type": "skip"
    }
   },
   "outputs": [
    {
     "name": "stderr",
     "output_type": "stream",
     "text": [
      "Using TensorFlow backend.\n"
     ]
    }
   ],
   "source": [
    "import IPython\n",
    "import keras\n",
    "from keras.datasets import mnist\n",
    "from keras.models import Sequential\n",
    "from keras.layers import Dense, Dropout, Flatten\n",
    "from keras.layers import Conv2D, MaxPooling2D\n",
    "from keras import backend as K\n",
    "from keras.callbacks import TensorBoard\n",
    "import matplotlib.pyplot as plt\n",
    "%matplotlib inline\n",
    "\n",
    "from keras.utils import plot_model\n",
    "from time import time\n",
    "\n",
    "tensorboard_cb = TensorBoard()"
   ]
  },
  {
   "cell_type": "markdown",
   "metadata": {
    "slideshow": {
     "slide_type": "slide"
    }
   },
   "source": [
    "# What is Data Science?"
   ]
  },
  {
   "cell_type": "markdown",
   "metadata": {
    "slideshow": {
     "slide_type": "subslide"
    }
   },
   "source": [
    "# Topics to Cover"
   ]
  },
  {
   "cell_type": "markdown",
   "metadata": {
    "slideshow": {
     "slide_type": "subslide"
    }
   },
   "source": [
    "## Data Science\n",
    "- What is it?\n",
    "- Who does it?\n",
    "\n",
    "## Machine Learning\n",
    "- Leveraging ML to maximize human potential\n",
    "- Image recognition demo"
   ]
  },
  {
   "cell_type": "markdown",
   "metadata": {
    "slideshow": {
     "slide_type": "notes"
    }
   },
   "source": [
    "Some notes go here"
   ]
  },
  {
   "cell_type": "markdown",
   "metadata": {
    "slideshow": {
     "slide_type": "skip"
    }
   },
   "source": [
    "<hr>"
   ]
  },
  {
   "cell_type": "markdown",
   "metadata": {
    "slideshow": {
     "slide_type": "slide"
    }
   },
   "source": [
    "# Who am I?"
   ]
  },
  {
   "cell_type": "markdown",
   "metadata": {
    "slideshow": {
     "slide_type": "subslide"
    }
   },
   "source": [
    "**LucidChart timeline leading up to present day**"
   ]
  },
  {
   "cell_type": "markdown",
   "metadata": {
    "slideshow": {
     "slide_type": "skip"
    }
   },
   "source": [
    "<hr>"
   ]
  },
  {
   "cell_type": "markdown",
   "metadata": {
    "slideshow": {
     "slide_type": "slide"
    }
   },
   "source": [
    "# Data science is trending"
   ]
  },
  {
   "cell_type": "markdown",
   "metadata": {
    "slideshow": {
     "slide_type": "fragment"
    }
   },
   "source": [
    "## Interest is accelerating\n",
    "\n",
    "![Interest is accelerating](images/ml_ds_interest_over_time.png)"
   ]
  },
  {
   "cell_type": "markdown",
   "metadata": {
    "slideshow": {
     "slide_type": "fragment"
    }
   },
   "source": [
    "[Google Trends Reference](https://trends.google.com/trends/explore?date=2009-04-02%202019-04-02&q=machine%20learning,data%20science)"
   ]
  },
  {
   "cell_type": "markdown",
   "metadata": {
    "slideshow": {
     "slide_type": "slide"
    }
   },
   "source": [
    "# Data scientist shortage"
   ]
  },
  {
   "cell_type": "markdown",
   "metadata": {
    "slideshow": {
     "slide_type": "fragment"
    }
   },
   "source": [
    "- [LinkedIn reported](https://news.linkedin.com/2018/8/linkedin-workforce-report-august-2018) shortage of **151,717** data scientist\n",
    "<br>\n",
    "- Low supply, high demand results in competetitive compensation\n"
   ]
  },
  {
   "cell_type": "markdown",
   "metadata": {
    "slideshow": {
     "slide_type": "subslide"
    }
   },
   "source": [
    "![](images/glass_door_ds_salaries1.png)\n",
    "\n",
    "[Glass Door Data Scientist](https://www.glassdoor.com/Salaries/data-scientist-salary-SRCH_KO0,14.htm)"
   ]
  },
  {
   "cell_type": "markdown",
   "metadata": {
    "slideshow": {
     "slide_type": "subslide"
    }
   },
   "source": [
    "![](images/glass_door_ml_engineer_salary.png)\n",
    "[Glass Door ML Engineer](https://www.glassdoor.com/Salaries/machine-learning-engineer-salary-SRCH_KO0,25.htm)"
   ]
  },
  {
   "cell_type": "markdown",
   "metadata": {
    "slideshow": {
     "slide_type": "slide"
    }
   },
   "source": [
    "# Are You a Data Scientist?"
   ]
  },
  {
   "cell_type": "markdown",
   "metadata": {
    "slideshow": {
     "slide_type": "subslide"
    }
   },
   "source": [
    "# Characteristics \n",
    "\n",
    "- ### **Imaginative**\n",
    "    - _Abstracts away compartamentilisim_\n",
    "- ### **Inquisative**\n",
    "    - _Follows curiosity_\n",
    "- ### **Perseverant**\n",
    "    - _Undeterred_ \n",
    "- ### **Evolutionary**\n",
    "    - _Ability to systematically and iteratively develop skills_\n"
   ]
  },
  {
   "cell_type": "markdown",
   "metadata": {
    "slideshow": {
     "slide_type": "slide"
    }
   },
   "source": [
    "# Pumpkin Pancakes"
   ]
  },
  {
   "cell_type": "markdown",
   "metadata": {
    "slideshow": {
     "slide_type": "fragment"
    }
   },
   "source": [
    "\n",
    "- 2 bananas, 1 can pumpkin, 4 large eggs, 1/4 C milk, honey, cinammon, almonds/walnuts (to taste)\n",
    "\n",
    "  1. Pour almond milk into blender. Depth of milk should cover the blades. Add all ingredients into blender and blend until smooth.\n",
    "  2. Preheat the oven to 400F. Pour mixture into baking dish. Bake for 16-20 minutes. Test by fork. Mixture should not stick to the fork.\n",
    "  3. Let cool until warm"
   ]
  },
  {
   "cell_type": "markdown",
   "metadata": {
    "slideshow": {
     "slide_type": "slide"
    }
   },
   "source": [
    "<img src=\"images/pumpkin_bake.png\" width=\"1250\">"
   ]
  },
  {
   "cell_type": "markdown",
   "metadata": {
    "slideshow": {
     "slide_type": "skip"
    }
   },
   "source": [
    "<hr>"
   ]
  },
  {
   "cell_type": "markdown",
   "metadata": {
    "slideshow": {
     "slide_type": "slide"
    }
   },
   "source": [
    "# Machine Learning"
   ]
  },
  {
   "cell_type": "markdown",
   "metadata": {
    "slideshow": {
     "slide_type": "fragment"
    }
   },
   "source": [
    "<quote>\n",
    "Machine learning is the scientific study of algorithms and statistical models that computer systems use to effectively perform a specific task without using explicit instructions, relying on patterns and inference instead\n",
    "    <author>Wikipedia</author>\n",
    "</quote>\n",
    "<br>\n",
    "\n",
    "- Classification & Regression\n",
    "- Clustering\n",
    "- Dimensionality reduction\n",
    "- Structured prediction\n",
    "- Anomaly detection\n",
    "- Neural Networks (Deep learning)"
   ]
  },
  {
   "cell_type": "markdown",
   "metadata": {
    "slideshow": {
     "slide_type": "slide"
    }
   },
   "source": [
    "List out some examples of everyday usage.\n",
    "\n",
    "Iphone face recognition to unlock\n",
    "IPhone, voice recognition\n",
    "GMail auto complete\n",
    "Gmail photo tagging and sorting\n",
    "\n",
    "Email spam filtering\n",
    "\n",
    "\n",
    "Self driving or smart assist cars, drones, boats\n",
    "\n",
    "Toxic comments,\n",
    "satellite image counting of sea lions\n",
    "recognition of restricted fish in trawler nets\n",
    "Whales not boats\n",
    "\n",
    "\n"
   ]
  },
  {
   "cell_type": "markdown",
   "metadata": {
    "slideshow": {
     "slide_type": "slide"
    }
   },
   "source": [
    "# Wait... Is it hard?\n"
   ]
  },
  {
   "cell_type": "markdown",
   "metadata": {
    "slideshow": {
     "slide_type": "fragment"
    }
   },
   "source": [
    "<table style=\"width: 100%; font-size='3'\">\n",
    "        <tr>\n",
    "            <td>Calculus</td><td>Differential Equations</td>\n",
    "        </tr>\n",
    "        <tr>\n",
    "            <td>Linear Albebra</td><td>Probability</td>\n",
    "        </tr>\n",
    "        <tr>\n",
    "            <td>Statistics</td><td>Information Theory</td>\n",
    "        </tr>\n",
    "        <tr>\n",
    "            <td>Image Analysis</td><td>Algorithms and Optimization</td>\n",
    "        </tr>\n",
    " </table>\n",
    "    </font>"
   ]
  },
  {
   "cell_type": "markdown",
   "metadata": {
    "slideshow": {
     "slide_type": "subslide"
    }
   },
   "source": [
    "![](images/powertrain.png)\n",
    "\n",
    "*Most of you utilize this tool everyday*"
   ]
  },
  {
   "cell_type": "markdown",
   "metadata": {
    "slideshow": {
     "slide_type": "subslide"
    }
   },
   "source": [
    "<img src=\"images/car_highlight.png\" height=\"600\" width=\"600\">\n",
    "\n",
    "**Part in context with rest of system**"
   ]
  },
  {
   "cell_type": "markdown",
   "metadata": {
    "slideshow": {
     "slide_type": "slide"
    }
   },
   "source": [
    "# MNIST  \n",
    "\n",
    "**What it is**\n",
    "[MNIST Database of handwritten digits](http://yann.lecun.com/exdb/mnist/) is a well known and standard tool for testing various machine learning techniques.\n",
    "<br>\n"
   ]
  },
  {
   "cell_type": "code",
   "execution_count": 2,
   "metadata": {
    "slideshow": {
     "slide_type": "subslide"
    }
   },
   "outputs": [
    {
     "data": {
      "image/png": "[encoded data removed]",
      "text/plain": [
       "<Figure size 936x576 with 9 Axes>"
      ]
     },
     "metadata": {
      "needs_background": "light"
     },
     "output_type": "display_data"
    }
   ],
   "source": [
    "(x_train, y_train), (x_test, y_test) = mnist.load_data()\n",
    "fig, axes = plt.subplots(ncols=3, nrows=3, figsize=(13,8))\n",
    "for idx, ax in enumerate(axes.flatten()):\n",
    "    ax.imshow(x_train[idx], cmap='gray')"
   ]
  },
  {
   "cell_type": "code",
   "execution_count": 3,
   "metadata": {
    "slideshow": {
     "slide_type": "subslide"
    }
   },
   "outputs": [
    {
     "name": "stdout",
     "output_type": "stream",
     "text": [
      "x_train shape: (60000, 28, 28, 1)\n",
      "60000 train samples\n",
      "10000 test samples\n"
     ]
    }
   ],
   "source": [
    "batch_size = 128\n",
    "num_classes = 10\n",
    "epochs = 12\n",
    "\n",
    "# input image dimensions\n",
    "img_rows, img_cols = 28, 28\n",
    "\n",
    "# the data, split between train and test sets\n",
    "(x_train, y_train), (x_test, y_test) = mnist.load_data()\n",
    "\n",
    "if K.image_data_format() == 'channels_first':\n",
    "    x_train = x_train.reshape(x_train.shape[0], 1, img_rows, img_cols)\n",
    "    x_test = x_test.reshape(x_test.shape[0], 1, img_rows, img_cols)\n",
    "    input_shape = (1, img_rows, img_cols)\n",
    "else:\n",
    "    x_train = x_train.reshape(x_train.shape[0], img_rows, img_cols, 1)\n",
    "    x_test = x_test.reshape(x_test.shape[0], img_rows, img_cols, 1)\n",
    "    input_shape = (img_rows, img_cols, 1)\n",
    "\n",
    "x_train = x_train.astype('float32')\n",
    "x_test = x_test.astype('float32')\n",
    "x_train /= 255\n",
    "x_test /= 255\n",
    "print('x_train shape:', x_train.shape)\n",
    "print(x_train.shape[0], 'train samples')\n",
    "print(x_test.shape[0], 'test samples')\n",
    "\n",
    "# convert class vectors to binary class matrices\n",
    "y_train = keras.utils.to_categorical(y_train, num_classes)\n",
    "y_test = keras.utils.to_categorical(y_test, num_classes)"
   ]
  },
  {
   "cell_type": "code",
   "execution_count": 31,
   "metadata": {
    "slideshow": {
     "slide_type": "subslide"
    }
   },
   "outputs": [
    {
     "name": "stdout",
     "output_type": "stream",
     "text": [
      "TensorBoard 1.13.1 at http://pason:6007 (Press CTRL+C to quit)\n",
      "^C\n"
     ]
    }
   ],
   "source": [
    "# Fire up tensorboard\n",
    "! tensorboard --logdir=logs/"
   ]
  },
  {
   "cell_type": "code",
   "execution_count": 8,
   "metadata": {
    "slideshow": {
     "slide_type": "subslide"
    }
   },
   "outputs": [],
   "source": [
    "# Design the model\n",
    "model = Sequential()\n",
    "model.add(Conv2D(32, kernel_size=(3, 3),\n",
    "                 activation='relu',\n",
    "                 input_shape=input_shape))\n",
    "model.add(Conv2D(64, (3, 3), activation='relu'))\n",
    "model.add(MaxPooling2D(pool_size=(2, 2)))\n",
    "model.add(Dropout(0.25))\n",
    "model.add(Flatten())\n",
    "model.add(Dense(128, activation='relu'))\n",
    "model.add(Dropout(0.5))\n",
    "model.add(Dense(num_classes, activation='softmax'))\n",
    "\n",
    "# Build the model\n",
    "model.compile(loss=keras.losses.categorical_crossentropy,\n",
    "              optimizer=keras.optimizers.Adadelta(),\n",
    "              metrics=['accuracy'])\n",
    "\n",
    "plot_model(model, to_file='images/model.png')"
   ]
  },
  {
   "cell_type": "markdown",
   "metadata": {
    "slideshow": {
     "slide_type": "subslide"
    }
   },
   "source": [
    "![](images/model.png)"
   ]
  },
  {
   "cell_type": "code",
   "execution_count": 30,
   "metadata": {
    "slideshow": {
     "slide_type": "subslide"
    }
   },
   "outputs": [
    {
     "name": "stdout",
     "output_type": "stream",
     "text": [
      "WARNING:tensorflow:From /home/miles/miniconda3/envs/presentations/lib/python3.7/site-packages/tensorflow/python/ops/math_ops.py:3066: to_int32 (from tensorflow.python.ops.math_ops) is deprecated and will be removed in a future version.\n",
      "Instructions for updating:\n",
      "Use tf.cast instead.\n",
      "Train on 60000 samples, validate on 10000 samples\n",
      "Epoch 1/12\n",
      "60000/60000 [==============================] - 79s 1ms/step - loss: 0.2647 - acc: 0.9189 - val_loss: 0.0564 - val_acc: 0.9825\n",
      "Epoch 2/12\n",
      "60000/60000 [==============================] - 83s 1ms/step - loss: 0.0907 - acc: 0.9726 - val_loss: 0.0411 - val_acc: 0.9856\n",
      "Epoch 3/12\n",
      "60000/60000 [==============================] - 78s 1ms/step - loss: 0.0676 - acc: 0.9799 - val_loss: 0.0375 - val_acc: 0.9865\n",
      "Epoch 4/12\n",
      "60000/60000 [==============================] - 81s 1ms/step - loss: 0.0567 - acc: 0.9828 - val_loss: 0.0354 - val_acc: 0.9876\n",
      "Epoch 5/12\n",
      "60000/60000 [==============================] - 85s 1ms/step - loss: 0.0485 - acc: 0.9849 - val_loss: 0.0315 - val_acc: 0.9895\n",
      "Epoch 6/12\n",
      "60000/60000 [==============================] - 82s 1ms/step - loss: 0.0423 - acc: 0.9869 - val_loss: 0.0303 - val_acc: 0.9903\n",
      "Epoch 7/12\n",
      "60000/60000 [==============================] - 83s 1ms/step - loss: 0.0383 - acc: 0.9887 - val_loss: 0.0287 - val_acc: 0.9905\n",
      "Epoch 8/12\n",
      "60000/60000 [==============================] - 92s 2ms/step - loss: 0.0357 - acc: 0.9891 - val_loss: 0.0282 - val_acc: 0.9906\n",
      "Epoch 9/12\n",
      "60000/60000 [==============================] - 89s 1ms/step - loss: 0.0331 - acc: 0.9900 - val_loss: 0.0312 - val_acc: 0.9902\n",
      "Epoch 10/12\n",
      "60000/60000 [==============================] - 96s 2ms/step - loss: 0.0316 - acc: 0.9900 - val_loss: 0.0281 - val_acc: 0.9909\n",
      "Epoch 11/12\n",
      "60000/60000 [==============================] - 89s 1ms/step - loss: 0.0308 - acc: 0.9905 - val_loss: 0.0286 - val_acc: 0.9913\n",
      "Epoch 12/12\n",
      "60000/60000 [==============================] - 86s 1ms/step - loss: 0.0278 - acc: 0.9914 - val_loss: 0.0260 - val_acc: 0.9919\n"
     ]
    },
    {
     "data": {
      "text/plain": [
       "<keras.callbacks.History at 0x7fa28363ac18>"
      ]
     },
     "execution_count": 30,
     "metadata": {},
     "output_type": "execute_result"
    }
   ],
   "source": [
    "# Train the model\n",
    "# 12 epochs achieves 99.12% Accuracy!\n",
    "model.fit(x_train, y_train,\n",
    "          batch_size=batch_size,\n",
    "          epochs=epochs,\n",
    "          verbose=1,\n",
    "          validation_data=(x_test, y_test),\n",
    "          callbacks=[TensorBoard(log_dir='logs/{}'.format(time()))]\n",
    "         )"
   ]
  }
 ],
 "metadata": {
  "celltoolbar": "Slideshow",
  "kernelspec": {
   "display_name": "Python 3",
   "language": "python",
   "name": "python3"
  },
  "language_info": {
   "codemirror_mode": {
    "name": "ipython",
    "version": 3
   },
   "file_extension": ".py",
   "mimetype": "text/x-python",
   "name": "python",
   "nbconvert_exporter": "python",
   "pygments_lexer": "ipython3",
   "version": "3.7.3"
  }
 },
 "nbformat": 4,
 "nbformat_minor": 2
}
